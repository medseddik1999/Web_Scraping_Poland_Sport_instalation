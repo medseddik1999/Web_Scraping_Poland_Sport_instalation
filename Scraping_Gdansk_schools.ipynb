{
 "cells": [
  {
   "cell_type": "code",
   "execution_count": null,
   "id": "c49fa4e1-8007-411e-91fa-181621478643",
   "metadata": {},
   "outputs": [],
   "source": [
    "import requests \n",
    "from bs4 import BeautifulSoup\n",
    "import re # regex expression\n",
    "from tqdm import tqdm # time loop in notebook \n",
    "import re  \n",
    "import translators as ts   \n",
    "from time import sleep  \n",
    "import pandas as pd  "
   ]
  },
  {
   "cell_type": "code",
   "execution_count": null,
   "id": "15eae1d0-5c69-482b-a238-a6629b8bdb6a",
   "metadata": {},
   "outputs": [],
   "source": [
    "response=requests.get('https://www.gdansk.pl/urzad-miejski/wydzial-rozwoju-spolecznego/nowe-boiska-nowe-mozliwosci-zasady-korzystania-z-nowych-obiektow,a,17104')\n",
    "content=response.content\n",
    "soup=BeautifulSoup(content, 'html.parser')\n",
    "soup"
   ]
  },
  {
   "cell_type": "code",
   "execution_count": null,
   "id": "231854fb-23dc-43a5-97e7-ad634a68874d",
   "metadata": {},
   "outputs": [],
   "source": [
    "contacts=soup.find_all(text=lambda text: text and \"(ul.\" in text)  # find text havin \"!!\" inside it\n",
    "better=[item.split(',') for item in contacts]\n",
    "best=[i for j in better for i in j]"
   ]
  },
  {
   "cell_type": "code",
   "execution_count": null,
   "id": "d63bb4ac-003d-4206-ab68-0818c8b5cab6",
   "metadata": {},
   "outputs": [],
   "source": [
    "#data cleaning\n",
    "\n",
    "best.insert(153,' (al. Grunwaldzka 238)')\n",
    "best.insert(154,' tel.58-3416467')\n",
    "\n",
    "best.remove('')\n",
    "best.remove('')\n",
    "best.remove(' 58-3412902')\n",
    "best\n",
    "\n",
    "address=best[::2]\n",
    "address.index('(ul. Głęboka 11)')\n",
    "address.insert(24, '(Ul. Marusarzówny 10)')\n",
    "address.index(' (ul. Kartuska 126a)')\n",
    "address.insert(28, '(ul. Chałubińskiego 13)')\n",
    "print(len(address))\n",
    "address\n"
   ]
  },
  {
   "cell_type": "code",
   "execution_count": null,
   "id": "e908d1a1-dd93-4a81-a62c-9aa46f25a2bf",
   "metadata": {},
   "outputs": [],
   "source": [
    "phone=best[1::2]\n",
    "phone\n",
    "tel=[i[5:] for i in phone]\n",
    "tel.index('58-3463821')\n",
    "tel.insert(24, '58-3487662')\n",
    "tel.insert(28, '58-3038520')\n",
    "print(len(tel))\n",
    "tel"
   ]
  },
  {
   "cell_type": "code",
   "execution_count": null,
   "id": "3f7772a2-9d80-40f5-b343-826a5e7e2d9d",
   "metadata": {},
   "outputs": [],
   "source": [
    "names=soup.find_all(text=lambda text: text and \"nr \" in text)  # find text havin \"!!\" inside it\n",
    "names"
   ]
  },
  {
   "cell_type": "code",
   "execution_count": null,
   "id": "fa235e70-38ff-471f-aa89-ebf8d0cfd1b8",
   "metadata": {},
   "outputs": [],
   "source": [
    "colonne = ['Facility.Name','Primary school', 'Secondary school','Facility.Tel_Number (+48)','Facility.Web_site','Facility.Address','Facility.email','Facility.Courts','Facility.Sport_activities']\n",
    "df= pd.DataFrame(columns=colonne)\n",
    "df['Facility.Name']=names\n",
    "df.to_excel('ENG_Schools_Gdansk.xlsx')"
   ]
  },
  {
   "cell_type": "code",
   "execution_count": null,
   "id": "80e2ef11-8c38-48c5-840b-856a749e7239",
   "metadata": {},
   "outputs": [],
   "source": [
    "data=pd.read_excel(\"C:/Users/Arianna/Desktop/ENG_Schools_Gdansk.xlsx\")\n",
    "data['Facility.Address']=address\n",
    "data['Facility.Tel_Number (+48)']=tel\n",
    "data.to_excel(\"C:/Users/Arianna/Desktop/Gdansk_Schools_ENG.xlsx\", encoding='utf-8')  "
   ]
  }
 ],
 "metadata": {
  "kernelspec": {
   "display_name": "Python 3 (ipykernel)",
   "language": "python",
   "name": "python3"
  },
  "language_info": {
   "codemirror_mode": {
    "name": "ipython",
    "version": 3
   },
   "file_extension": ".py",
   "mimetype": "text/x-python",
   "name": "python",
   "nbconvert_exporter": "python",
   "pygments_lexer": "ipython3",
   "version": "3.9.12"
  }
 },
 "nbformat": 4,
 "nbformat_minor": 5
}
